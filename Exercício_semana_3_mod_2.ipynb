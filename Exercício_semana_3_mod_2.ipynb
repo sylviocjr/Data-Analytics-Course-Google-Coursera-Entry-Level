{
 "cells": [
  {
   "cell_type": "markdown",
   "id": "1ccbe766",
   "metadata": {},
   "source": [
    "### README\n",
    "\n",
    "Exercício prático da 3ª semana do 2º módulo do curso de Análise de Dados do Google Career Certificates e Coursera.\n",
    "\n",
    "Atividade de análise proposta durante o curso de uso de planilhas eletrônicas e seus diversos recursos para análise de dados. \n",
    "\n",
    "Adicionalmente, fiz a opção própria por desenvolver a mesma atividade e exercitar habilidades analíticas agora com uso da linguagem Python e biblioteca Pandas, gerando o código ora demonstrado. A inclusão de um gráfico de colunas também foi por opção própria, uma vez que não foi solicitado na atividade prática do curso.\n",
    "\n",
    "Por questão de coerência, optei por fazer as exibições dos resultados para os stakeholders em inglês, uma vez que\n",
    "os dados originais referem-se a um contexto neste idioma. Propositalmente, não fiz esta opção para atribuição de \n",
    "nomes de variáveis e nos comentários, apenas por uma questão de maior facilidade de leitura e interpretação do código.\n",
    "\n",
    "\n",
    "Autor: Sylvio Carneiro Júnior (sylviocjr.dev@gmail.com).\n",
    "\n",
    "Data: outubro de 2022.\n",
    "\n",
    "Nível: básico.\n",
    "\n",
    "#### Instruções:\n",
    "Para esta atividade, imagine que você é um analista de dados trabalhando para uma agência de recrutamento. Essa agência de recrutamento ajuda todos os tipos de empresas a encontrar pessoas qualificadas para preencher vagas de trabalho em aberto de análise de dados. A agência coletou dados sobre candidaturas de emprego a oportunidades publicadas em seu site para o ano de 2019.\n",
    "\n",
    "A agência pediu à sua equipe para otimizar o processo de candidatura online. Sua tarefa é resumir os dados de candidatura de emprego da agência. Em particular, você deve responder às seguintes perguntas:\n",
    "\n",
    "#### Perguntas de negócio feitas ao analista de dados:\n",
    "\n",
    "Qual foi o número total de candidaturas recebidas por mês em 2019?\n",
    "\n",
    "Quais meses tiveram o menor e maior número total de candidaturas recebidas?\n",
    "\n",
    "Qual foi o número médio de candidaturas recebidas por mês?\n",
    "\n",
    "\n",
    "Fonte: curso de Análise de Dados do Google Career Certificates (adaptado).\n",
    "\n",
    "Link para a planilha com os exercícios praticados durante a atividade:\n",
    "<https://docs.google.com/spreadsheets/d/e/2PACX-1vRLZdkGvVgYQbpQBlkFylBh8xUdHH71Y9CfdV1-EIDImABMpUuhj2-4sbn9NV9ZzXTCuxmdXCkvpo1a/pubhtml>.\n",
    "\n",
    "#### Referências consultadas: \n",
    "\n",
    "Pandas datetime: <https://cursos.alura.com.br/forum/topico-pandas-to_datetime-altera-parte-das-datas-do-meu-dataframe-175350>;\n",
    "\n",
    "Seaborn barplot: <https://acervolima.com/barplot-usando-seaborn-em-python/>;\n",
    "\n",
    "Outras configurações de exibição com barplot: <https://datavizpyr.com/how-to-annotate-bars-in-barplot-with-matplotlib-in-python/>;"
   ]
  },
  {
   "cell_type": "markdown",
   "id": "a8bd112e",
   "metadata": {},
   "source": [
    "## Importações, leitura do conjunto de dados e construção do Data Frame em Pandas:"
   ]
  },
  {
   "cell_type": "code",
   "execution_count": 1,
   "id": "dece0518",
   "metadata": {},
   "outputs": [],
   "source": [
    "import pandas as pd\n",
    "import seaborn as sns\n",
    "from matplotlib import pyplot as plt"
   ]
  },
  {
   "cell_type": "code",
   "execution_count": 2,
   "id": "34e2b43c",
   "metadata": {},
   "outputs": [],
   "source": [
    "url = 'https://docs.google.com/spreadsheets/d/e/2PACX-1vTdyH7Y-eUgtFF3fso1oPXnuKxoTmZPKsY90IzAtgEpEhamOp5aiKtNz2du4jE1ndHZalj5IGbN6WGJ/pub?output=csv'\n",
    "df = pd.read_csv(url)"
   ]
  },
  {
   "cell_type": "markdown",
   "id": "7978645d",
   "metadata": {},
   "source": [
    "## Análise exploratória inicial dos dados:"
   ]
  },
  {
   "cell_type": "code",
   "execution_count": 3,
   "id": "31e19992",
   "metadata": {},
   "outputs": [
    {
     "name": "stdout",
     "output_type": "stream",
     "text": [
      "<class 'pandas.core.frame.DataFrame'>\n",
      "RangeIndex: 32596 entries, 0 to 32595\n",
      "Data columns (total 6 columns):\n",
      " #   Column        Non-Null Count  Dtype \n",
      "---  ------        --------------  ----- \n",
      " 0   ID            32596 non-null  int64 \n",
      " 1   Date          32596 non-null  object\n",
      " 2   Job Title     32596 non-null  object\n",
      " 3   Job Location  32596 non-null  object\n",
      " 4   Hired         32596 non-null  bool  \n",
      " 5   Easy Apply    32596 non-null  bool  \n",
      "dtypes: bool(2), int64(1), object(3)\n",
      "memory usage: 1.1+ MB\n"
     ]
    }
   ],
   "source": [
    "df.info()"
   ]
  },
  {
   "cell_type": "code",
   "execution_count": 4,
   "id": "7d39841b",
   "metadata": {
    "scrolled": false
   },
   "outputs": [
    {
     "data": {
      "text/html": [
       "<div>\n",
       "<style scoped>\n",
       "    .dataframe tbody tr th:only-of-type {\n",
       "        vertical-align: middle;\n",
       "    }\n",
       "\n",
       "    .dataframe tbody tr th {\n",
       "        vertical-align: top;\n",
       "    }\n",
       "\n",
       "    .dataframe thead th {\n",
       "        text-align: right;\n",
       "    }\n",
       "</style>\n",
       "<table border=\"1\" class=\"dataframe\">\n",
       "  <thead>\n",
       "    <tr style=\"text-align: right;\">\n",
       "      <th></th>\n",
       "      <th>ID</th>\n",
       "      <th>Date</th>\n",
       "      <th>Job Title</th>\n",
       "      <th>Job Location</th>\n",
       "      <th>Hired</th>\n",
       "      <th>Easy Apply</th>\n",
       "    </tr>\n",
       "  </thead>\n",
       "  <tbody>\n",
       "    <tr>\n",
       "      <th>0</th>\n",
       "      <td>24368</td>\n",
       "      <td>4/11/19 9:30</td>\n",
       "      <td>PHARMACEUTICAL DATA ANALYST</td>\n",
       "      <td>Dallas, TX</td>\n",
       "      <td>False</td>\n",
       "      <td>False</td>\n",
       "    </tr>\n",
       "    <tr>\n",
       "      <th>1</th>\n",
       "      <td>24369</td>\n",
       "      <td>6/25/19 13:30</td>\n",
       "      <td>PHARMACEUTICAL DATA ANALYST</td>\n",
       "      <td>Austin, TX</td>\n",
       "      <td>False</td>\n",
       "      <td>False</td>\n",
       "    </tr>\n",
       "    <tr>\n",
       "      <th>2</th>\n",
       "      <td>24371</td>\n",
       "      <td>10/26/19 1:00</td>\n",
       "      <td>PHARMACEUTICAL DATA ANALYST</td>\n",
       "      <td>Boulder, CO</td>\n",
       "      <td>True</td>\n",
       "      <td>False</td>\n",
       "    </tr>\n",
       "    <tr>\n",
       "      <th>3</th>\n",
       "      <td>24374</td>\n",
       "      <td>3/2/19 19:30</td>\n",
       "      <td>PHARMACEUTICAL DATA ANALYST</td>\n",
       "      <td>New York, NY</td>\n",
       "      <td>False</td>\n",
       "      <td>False</td>\n",
       "    </tr>\n",
       "    <tr>\n",
       "      <th>4</th>\n",
       "      <td>24388</td>\n",
       "      <td>4/4/19 19:30</td>\n",
       "      <td>PHARMACEUTICAL DATA ANALYST</td>\n",
       "      <td>Chicago, IL</td>\n",
       "      <td>False</td>\n",
       "      <td>True</td>\n",
       "    </tr>\n",
       "  </tbody>\n",
       "</table>\n",
       "</div>"
      ],
      "text/plain": [
       "      ID           Date                    Job Title  Job Location  Hired  \\\n",
       "0  24368   4/11/19 9:30  PHARMACEUTICAL DATA ANALYST    Dallas, TX  False   \n",
       "1  24369  6/25/19 13:30  PHARMACEUTICAL DATA ANALYST    Austin, TX  False   \n",
       "2  24371  10/26/19 1:00  PHARMACEUTICAL DATA ANALYST   Boulder, CO   True   \n",
       "3  24374   3/2/19 19:30  PHARMACEUTICAL DATA ANALYST  New York, NY  False   \n",
       "4  24388   4/4/19 19:30  PHARMACEUTICAL DATA ANALYST   Chicago, IL  False   \n",
       "\n",
       "   Easy Apply  \n",
       "0       False  \n",
       "1       False  \n",
       "2       False  \n",
       "3       False  \n",
       "4        True  "
      ]
     },
     "execution_count": 4,
     "metadata": {},
     "output_type": "execute_result"
    }
   ],
   "source": [
    "df.head()"
   ]
  },
  {
   "cell_type": "code",
   "execution_count": 5,
   "id": "c7b2e334",
   "metadata": {},
   "outputs": [
    {
     "name": "stdout",
     "output_type": "stream",
     "text": [
      "Não há registros duplicados a serem removidos.\n"
     ]
    }
   ],
   "source": [
    "# Eliminação de dados duplicados, caso existam, usando o atributo 'ID' como referência:\n",
    "if len(df['ID']) > len(df['ID'].unique()):\n",
    "    print('Eliminando registros duplicados ...')\n",
    "    df['ID'].drop_duplicates()\n",
    "    print('Registros duplicados removidos.')\n",
    "else:\n",
    "    print('Não há registros duplicados a serem removidos.')"
   ]
  },
  {
   "cell_type": "code",
   "execution_count": 6,
   "id": "f0a9cc98",
   "metadata": {
    "scrolled": true
   },
   "outputs": [
    {
     "data": {
      "text/plain": [
       "ID              0\n",
       "Date            0\n",
       "Job Title       0\n",
       "Job Location    0\n",
       "Hired           0\n",
       "Easy Apply      0\n",
       "dtype: int64"
      ]
     },
     "execution_count": 6,
     "metadata": {},
     "output_type": "execute_result"
    }
   ],
   "source": [
    "# Verificação de valores nulos:\n",
    "df.isnull().sum()"
   ]
  },
  {
   "cell_type": "markdown",
   "id": "ac800407",
   "metadata": {},
   "source": [
    "## Tratamento dos dados:"
   ]
  },
  {
   "cell_type": "code",
   "execution_count": 7,
   "id": "f51de163",
   "metadata": {},
   "outputs": [],
   "source": [
    "# Eliminação da coluna ID, que não mais será utilizada:\n",
    "df.drop('ID', inplace = True, axis = 1)"
   ]
  },
  {
   "cell_type": "code",
   "execution_count": 8,
   "id": "05724f50",
   "metadata": {},
   "outputs": [],
   "source": [
    "# Conversão do formato de data - rever link na documentação acima:\n",
    "df['Date'] = pd.to_datetime(df['Date'])"
   ]
  },
  {
   "cell_type": "code",
   "execution_count": 9,
   "id": "a27ad3f3",
   "metadata": {
    "scrolled": true
   },
   "outputs": [
    {
     "name": "stdout",
     "output_type": "stream",
     "text": [
      "<class 'pandas.core.frame.DataFrame'>\n",
      "RangeIndex: 32596 entries, 0 to 32595\n",
      "Data columns (total 5 columns):\n",
      " #   Column        Non-Null Count  Dtype         \n",
      "---  ------        --------------  -----         \n",
      " 0   Date          32596 non-null  datetime64[ns]\n",
      " 1   Job Title     32596 non-null  object        \n",
      " 2   Job Location  32596 non-null  object        \n",
      " 3   Hired         32596 non-null  bool          \n",
      " 4   Easy Apply    32596 non-null  bool          \n",
      "dtypes: bool(2), datetime64[ns](1), object(2)\n",
      "memory usage: 827.8+ KB\n"
     ]
    }
   ],
   "source": [
    "df.info()"
   ]
  },
  {
   "cell_type": "code",
   "execution_count": 10,
   "id": "dff441d8",
   "metadata": {
    "scrolled": true
   },
   "outputs": [
    {
     "data": {
      "text/html": [
       "<div>\n",
       "<style scoped>\n",
       "    .dataframe tbody tr th:only-of-type {\n",
       "        vertical-align: middle;\n",
       "    }\n",
       "\n",
       "    .dataframe tbody tr th {\n",
       "        vertical-align: top;\n",
       "    }\n",
       "\n",
       "    .dataframe thead th {\n",
       "        text-align: right;\n",
       "    }\n",
       "</style>\n",
       "<table border=\"1\" class=\"dataframe\">\n",
       "  <thead>\n",
       "    <tr style=\"text-align: right;\">\n",
       "      <th></th>\n",
       "      <th>Date</th>\n",
       "      <th>Job Title</th>\n",
       "      <th>Job Location</th>\n",
       "      <th>Hired</th>\n",
       "      <th>Easy Apply</th>\n",
       "    </tr>\n",
       "  </thead>\n",
       "  <tbody>\n",
       "    <tr>\n",
       "      <th>0</th>\n",
       "      <td>2019-04-11 09:30:00</td>\n",
       "      <td>PHARMACEUTICAL DATA ANALYST</td>\n",
       "      <td>Dallas, TX</td>\n",
       "      <td>False</td>\n",
       "      <td>False</td>\n",
       "    </tr>\n",
       "    <tr>\n",
       "      <th>1</th>\n",
       "      <td>2019-06-25 13:30:00</td>\n",
       "      <td>PHARMACEUTICAL DATA ANALYST</td>\n",
       "      <td>Austin, TX</td>\n",
       "      <td>False</td>\n",
       "      <td>False</td>\n",
       "    </tr>\n",
       "    <tr>\n",
       "      <th>2</th>\n",
       "      <td>2019-10-26 01:00:00</td>\n",
       "      <td>PHARMACEUTICAL DATA ANALYST</td>\n",
       "      <td>Boulder, CO</td>\n",
       "      <td>True</td>\n",
       "      <td>False</td>\n",
       "    </tr>\n",
       "    <tr>\n",
       "      <th>3</th>\n",
       "      <td>2019-03-02 19:30:00</td>\n",
       "      <td>PHARMACEUTICAL DATA ANALYST</td>\n",
       "      <td>New York, NY</td>\n",
       "      <td>False</td>\n",
       "      <td>False</td>\n",
       "    </tr>\n",
       "    <tr>\n",
       "      <th>4</th>\n",
       "      <td>2019-04-04 19:30:00</td>\n",
       "      <td>PHARMACEUTICAL DATA ANALYST</td>\n",
       "      <td>Chicago, IL</td>\n",
       "      <td>False</td>\n",
       "      <td>True</td>\n",
       "    </tr>\n",
       "  </tbody>\n",
       "</table>\n",
       "</div>"
      ],
      "text/plain": [
       "                 Date                    Job Title  Job Location  Hired  \\\n",
       "0 2019-04-11 09:30:00  PHARMACEUTICAL DATA ANALYST    Dallas, TX  False   \n",
       "1 2019-06-25 13:30:00  PHARMACEUTICAL DATA ANALYST    Austin, TX  False   \n",
       "2 2019-10-26 01:00:00  PHARMACEUTICAL DATA ANALYST   Boulder, CO   True   \n",
       "3 2019-03-02 19:30:00  PHARMACEUTICAL DATA ANALYST  New York, NY  False   \n",
       "4 2019-04-04 19:30:00  PHARMACEUTICAL DATA ANALYST   Chicago, IL  False   \n",
       "\n",
       "   Easy Apply  \n",
       "0       False  \n",
       "1       False  \n",
       "2       False  \n",
       "3       False  \n",
       "4        True  "
      ]
     },
     "execution_count": 10,
     "metadata": {},
     "output_type": "execute_result"
    }
   ],
   "source": [
    "df.head()"
   ]
  },
  {
   "cell_type": "code",
   "execution_count": 11,
   "id": "66b129cc",
   "metadata": {},
   "outputs": [],
   "source": [
    "# Criação e população de colunas para o mês (Month) e ano (Year):\n",
    "# Métodos .dt.month e .dt.year.\n",
    "df['Month'] = df['Date'].dt.month\n",
    "df['Year'] = df['Date'].dt.year"
   ]
  },
  {
   "cell_type": "code",
   "execution_count": 12,
   "id": "67f82c94",
   "metadata": {
    "scrolled": true
   },
   "outputs": [
    {
     "data": {
      "text/plain": [
       "7     3138\n",
       "6     2990\n",
       "8     2969\n",
       "5     2954\n",
       "9     2865\n",
       "10    2751\n",
       "12    2642\n",
       "4     2544\n",
       "3     2536\n",
       "11    2508\n",
       "1     2387\n",
       "2     2312\n",
       "Name: Month, dtype: int64"
      ]
     },
     "execution_count": 12,
     "metadata": {},
     "output_type": "execute_result"
    }
   ],
   "source": [
    "# Verificação dos meses dos registros e se há algum registro incorreto para o atributo 'Month':\n",
    "df['Month'].value_counts()"
   ]
  },
  {
   "cell_type": "code",
   "execution_count": 13,
   "id": "a87f32cd",
   "metadata": {},
   "outputs": [
    {
     "data": {
      "text/plain": [
       "2019    32596\n",
       "Name: Year, dtype: int64"
      ]
     },
     "execution_count": 13,
     "metadata": {},
     "output_type": "execute_result"
    }
   ],
   "source": [
    "# Verificação do(s) ano(s) dos registros. Após a execução, verifica-se que todo o conjunto de dados\n",
    "# refere-se unicamente ao ano de 2019:\n",
    "df['Year'].value_counts()"
   ]
  },
  {
   "cell_type": "code",
   "execution_count": 14,
   "id": "745a320a",
   "metadata": {},
   "outputs": [],
   "source": [
    "# Criação e população de coluna adicional para o nome do mês (Month_Name):\n",
    "# Uso de funções lambda:\n",
    "df['Month_Name'] = df['Month'].apply(lambda x: \n",
    "                'January' if x == 1 else \n",
    "                'February' if x == 2 else \n",
    "                'March' if x == 3 else \n",
    "                'April' if x == 4 else \n",
    "                'May' if x == 5 else \n",
    "                'June' if x == 6 else \n",
    "                'July' if x == 7 else \n",
    "                'August' if x == 8 else \n",
    "                'September' if x == 9 else \n",
    "                'October' if x == 10 else \n",
    "                'November' if x == 11 else \n",
    "                'December')"
   ]
  },
  {
   "cell_type": "code",
   "execution_count": 15,
   "id": "64e01ea1",
   "metadata": {},
   "outputs": [],
   "source": [
    "# Dicionário para que os meses sejam tratados de forma ordenada:\n",
    "dic = {}\n",
    "meses = ['January', 'February', 'March', 'April', \n",
    "         'May', 'June', 'July', 'August', 'September', \n",
    "         'October', 'November', 'December']\n",
    "\n",
    "for mes in meses:\n",
    "    dic[mes] = df.loc[df['Month_Name'] == mes, 'Month_Name'].count()"
   ]
  },
  {
   "cell_type": "code",
   "execution_count": 16,
   "id": "828012f1",
   "metadata": {
    "scrolled": true
   },
   "outputs": [
    {
     "name": "stdout",
     "output_type": "stream",
     "text": [
      "{'January': 2387, 'February': 2312, 'March': 2536, 'April': 2544, 'May': 2954, 'June': 2990, 'July': 3138, 'August': 2969, 'September': 2865, 'October': 2751, 'November': 2508, 'December': 2642}\n"
     ]
    }
   ],
   "source": [
    "print(dic)"
   ]
  },
  {
   "cell_type": "code",
   "execution_count": 17,
   "id": "531bd405",
   "metadata": {},
   "outputs": [],
   "source": [
    "df2 = pd.DataFrame(list(dic.items()), columns = ['Month','Applications'])"
   ]
  },
  {
   "cell_type": "markdown",
   "id": "d4888909",
   "metadata": {},
   "source": [
    "## Análise dos dados:"
   ]
  },
  {
   "cell_type": "code",
   "execution_count": 18,
   "id": "2b8ecda3",
   "metadata": {},
   "outputs": [],
   "source": [
    "# Menor número de candidaturas:\n",
    "menor = df2['Applications'].min()"
   ]
  },
  {
   "cell_type": "code",
   "execution_count": 19,
   "id": "52bcea9b",
   "metadata": {},
   "outputs": [],
   "source": [
    "# Maior número de candidaturas:\n",
    "maior = df2['Applications'].max()"
   ]
  },
  {
   "cell_type": "code",
   "execution_count": 20,
   "id": "2ad10d43",
   "metadata": {},
   "outputs": [],
   "source": [
    "# Média de candidaturas:\n",
    "media = df2['Applications'].mean()"
   ]
  },
  {
   "cell_type": "code",
   "execution_count": 21,
   "id": "d780f4b6",
   "metadata": {},
   "outputs": [],
   "source": [
    "# O método .index retorna o objeto Indice da linha a que se refere. \n",
    "# Se o indexarmos com [0], retorna o valor numérico do respectivo índice.\n",
    "indice_maior = df2[df2['Applications'] == maior].index[0]\n",
    "indice_menor = df2[df2['Applications'] == menor].index[0]"
   ]
  },
  {
   "cell_type": "code",
   "execution_count": 22,
   "id": "d4e1e313",
   "metadata": {},
   "outputs": [],
   "source": [
    "mes_maior = df2.loc[indice_maior, 'Month']\n",
    "mes_menor = df2.loc[indice_menor, 'Month']"
   ]
  },
  {
   "cell_type": "markdown",
   "id": "7ce3edba",
   "metadata": {},
   "source": [
    "## Respostas aos questionamentos de negócio - Impressões em tela:"
   ]
  },
  {
   "cell_type": "code",
   "execution_count": 23,
   "id": "6edb89bc",
   "metadata": {},
   "outputs": [
    {
     "name": "stdout",
     "output_type": "stream",
     "text": [
      "Monthly number of applications:\n"
     ]
    },
    {
     "data": {
      "text/html": [
       "<div>\n",
       "<style scoped>\n",
       "    .dataframe tbody tr th:only-of-type {\n",
       "        vertical-align: middle;\n",
       "    }\n",
       "\n",
       "    .dataframe tbody tr th {\n",
       "        vertical-align: top;\n",
       "    }\n",
       "\n",
       "    .dataframe thead th {\n",
       "        text-align: right;\n",
       "    }\n",
       "</style>\n",
       "<table border=\"1\" class=\"dataframe\">\n",
       "  <thead>\n",
       "    <tr style=\"text-align: right;\">\n",
       "      <th></th>\n",
       "      <th>Month</th>\n",
       "      <th>Applications</th>\n",
       "    </tr>\n",
       "  </thead>\n",
       "  <tbody>\n",
       "    <tr>\n",
       "      <th>0</th>\n",
       "      <td>January</td>\n",
       "      <td>2387</td>\n",
       "    </tr>\n",
       "    <tr>\n",
       "      <th>1</th>\n",
       "      <td>February</td>\n",
       "      <td>2312</td>\n",
       "    </tr>\n",
       "    <tr>\n",
       "      <th>2</th>\n",
       "      <td>March</td>\n",
       "      <td>2536</td>\n",
       "    </tr>\n",
       "    <tr>\n",
       "      <th>3</th>\n",
       "      <td>April</td>\n",
       "      <td>2544</td>\n",
       "    </tr>\n",
       "    <tr>\n",
       "      <th>4</th>\n",
       "      <td>May</td>\n",
       "      <td>2954</td>\n",
       "    </tr>\n",
       "    <tr>\n",
       "      <th>5</th>\n",
       "      <td>June</td>\n",
       "      <td>2990</td>\n",
       "    </tr>\n",
       "    <tr>\n",
       "      <th>6</th>\n",
       "      <td>July</td>\n",
       "      <td>3138</td>\n",
       "    </tr>\n",
       "    <tr>\n",
       "      <th>7</th>\n",
       "      <td>August</td>\n",
       "      <td>2969</td>\n",
       "    </tr>\n",
       "    <tr>\n",
       "      <th>8</th>\n",
       "      <td>September</td>\n",
       "      <td>2865</td>\n",
       "    </tr>\n",
       "    <tr>\n",
       "      <th>9</th>\n",
       "      <td>October</td>\n",
       "      <td>2751</td>\n",
       "    </tr>\n",
       "    <tr>\n",
       "      <th>10</th>\n",
       "      <td>November</td>\n",
       "      <td>2508</td>\n",
       "    </tr>\n",
       "    <tr>\n",
       "      <th>11</th>\n",
       "      <td>December</td>\n",
       "      <td>2642</td>\n",
       "    </tr>\n",
       "  </tbody>\n",
       "</table>\n",
       "</div>"
      ],
      "text/plain": [
       "        Month  Applications\n",
       "0     January          2387\n",
       "1    February          2312\n",
       "2       March          2536\n",
       "3       April          2544\n",
       "4         May          2954\n",
       "5        June          2990\n",
       "6        July          3138\n",
       "7      August          2969\n",
       "8   September          2865\n",
       "9     October          2751\n",
       "10   November          2508\n",
       "11   December          2642"
      ]
     },
     "metadata": {},
     "output_type": "display_data"
    },
    {
     "name": "stdout",
     "output_type": "stream",
     "text": [
      "\n",
      "Highest monthly quantity of applications: 3138 applications in July.\n",
      "\n",
      "Lowest monthly quantity of applications: 2312 applications in February.\n",
      "\n",
      "Average quantity of applications: 2716.33 applications.\n"
     ]
    }
   ],
   "source": [
    "print('Monthly number of applications:')\n",
    "display(df2)\n",
    "print(f'\\nHighest monthly quantity of applications: {maior} applications in {mes_maior}.')\n",
    "print(f'\\nLowest monthly quantity of applications: {menor} applications in {mes_menor}.')\n",
    "print(f'\\nAverage quantity of applications: {(media):.2f} applications.')\n"
   ]
  },
  {
   "cell_type": "markdown",
   "id": "8ae19120",
   "metadata": {},
   "source": [
    "## Gráfico de colunas com Seaborn:"
   ]
  },
  {
   "cell_type": "code",
   "execution_count": 24,
   "id": "624f3791",
   "metadata": {},
   "outputs": [
    {
     "data": {
      "image/png": "[encoded data removed]",
      "text/plain": [
       "<Figure size 864x432 with 1 Axes>"
      ]
     },
     "metadata": {
      "needs_background": "light"
     },
     "output_type": "display_data"
    }
   ],
   "source": [
    "plt.figure( figsize=(12, 6))\n",
    "splot = sns.barplot( x='Month', y='Applications', data=df2, palette= 'winter_r');\n",
    "plt.xlabel('Months', size=14)\n",
    "plt.ylabel('Applications', size=14)\n",
    "\n",
    "# Rotina para anotações dos valores sobre cada coluna:\n",
    "# https://datavizpyr.com/how-to-annotate-bars-in-barplot-with-matplotlib-in-python/\n",
    "for p in splot.patches:\n",
    "    splot.annotate(format(p.get_height(), '.0f'), \n",
    "    (p.get_x() + p.get_width() / 2., p.get_height()), \n",
    "    ha = 'center', va = 'center', \n",
    "    xytext = (0, 9), \n",
    "    textcoords = 'offset points')\n",
    "    \n",
    "plt.savefig('Applications x Months.png') # Exportação do gráfico em formato .png (salvo no diretório corrente):"
   ]
  }
 ],
 "metadata": {
  "kernelspec": {
   "display_name": "Python 3 (ipykernel)",
   "language": "python",
   "name": "python3"
  },
  "language_info": {
   "codemirror_mode": {
    "name": "ipython",
    "version": 3
   },
   "file_extension": ".py",
   "mimetype": "text/x-python",
   "name": "python",
   "nbconvert_exporter": "python",
   "pygments_lexer": "ipython3",
   "version": "3.10.4"
  },
  "vscode": {
   "interpreter": {
    "hash": "67cc8a5907f833053f7d200a2f3adce08e0c505cb9a9ea5f3a35a93a252d15f4"
   }
  }
 },
 "nbformat": 4,
 "nbformat_minor": 5
}
