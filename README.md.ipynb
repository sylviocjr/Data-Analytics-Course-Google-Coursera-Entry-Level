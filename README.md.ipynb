{
 "cells": [
  {
   "cell_type": "markdown",
   "id": "eb934fc5",
   "metadata": {},
   "source": [
    "## README\n",
    "\n",
    "Este repositório foi criado com o objetivo de armazenar em nuvem e divulgar os projetos lançados como atividades práticas do curso de Análise de Dados do Google Career Certificates em parceria com a Coursera.\n",
    "\n",
    "Iniciei este curso após ter sido contemplado com bolsa de estudos integral para a realização dos 8 módulos que compõem a trilha de aprendizado, sendo que as aulas tiveram início em 19 de setembro de 2022.\n",
    "\n",
    "Como é possível ver, nesta fasse inicial do curso ainda há poucas atividades práticas de análises propriamente ditas, além de apresentarem um nível básico, porém sinto-me confortável para agregar alguns conhecimentos a mais já adquiridos em outras trilhas de aprendizado, desta forma enriquecendo os exercícios com habilidades extras.\n",
    "\n",
    "À medida em que novas atividades forem sendo propostas no decorrer das aulas, pretendo divulgá-los aqui neste repositório para registrar minha trajetória ao longo dos estudos. Os próximos módulos do curso prometem por em prática novos conhecimentos direcionados à Análise de Dados.\n",
    "\n",
    "Autor: Sylvio Carneiro Júnior (sylviocjr.dev@gmail.com).\n",
    "\n",
    "Data de criação: outubro de 2022.\n",
    "\n",
    "Status atual do curso: Semana 1 / Módulo 3.\n",
    "\n",
    "Data de atualização: 23 out. 2022.\n",
    "\n",
    "Certificado do primeiro módulo: https://www.coursera.org/account/accomplishments/records/BRS4FSVH5YRX\n",
    "\n",
    "Certificado do segundo módulo: https://www.coursera.org/account/accomplishments/records/SKMNY956E4CX"
   ]
  },
  {
   "cell_type": "code",
   "execution_count": null,
   "id": "329534f3",
   "metadata": {},
   "outputs": [],
   "source": []
  }
 ],
 "metadata": {
  "kernelspec": {
   "display_name": "Python 3 (ipykernel)",
   "language": "python",
   "name": "python3"
  },
  "language_info": {
   "codemirror_mode": {
    "name": "ipython",
    "version": 3
   },
   "file_extension": ".py",
   "mimetype": "text/x-python",
   "name": "python",
   "nbconvert_exporter": "python",
   "pygments_lexer": "ipython3",
   "version": "3.9.7"
  }
 },
 "nbformat": 4,
 "nbformat_minor": 5
}
