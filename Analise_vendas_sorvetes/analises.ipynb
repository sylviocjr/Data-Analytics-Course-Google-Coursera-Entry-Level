{
 "cells": [
  {
   "cell_type": "markdown",
   "id": "49b9d7b1",
   "metadata": {},
   "source": [
    "### README\n",
    "\n",
    "Exercício prático da 3ª semana do 3º módulo do curso de Análise de Dados do Google Career Certificates e Coursera.\n",
    "\n",
    "Atividade de análise proposta durante o curso de uso de planilhas eletrônicas e seus diversos recursos para análise de dados. \n",
    "\n",
    "Adicionalmente, fiz a opção própria por desenvolver a mesma atividade e exercitar habilidades analíticas agora com uso da linguagem Python e biblioteca Pandas, gerando o código ora demonstrado. A inclusão de um gráfico de colunas também foi por opção própria, uma vez que não foi solicitado na atividade prática do curso.\n",
    "\n",
    "Por questão de coerência, optei por fazer as exibições dos resultados para os stakeholders em inglês, uma vez que\n",
    "os dados originais referem-se a um contexto neste idioma. Propositalmente, não fiz esta opção para atribuição de \n",
    "nomes de variáveis e nos comentários, apenas por uma questão de maior facilidade de leitura e interpretação do código.\n",
    "\n",
    "\n",
    "Autor: Sylvio Carneiro Júnior (sylviocjr.dev@gmail.com).\n",
    "\n",
    "Data: novembro de 2022.\n",
    "\n",
    "Nível: básico.\n",
    "\n",
    "#### Instruções:\n",
    "Você é um analista de dados que trabalha para uma empresa de sorvetes. A administração está interessada em melhorar as vendas de sorvetes da empresa.\n",
    "A empresa tem coletado dados sobre suas vendas - mas não muito. Os dados disponíveis são de uma fonte de dados interna e se baseiam nas vendas para 2019. Foi solicitado que você revisse os dados e fornecesse algumas informações sobre as vendas de sorvetes da empresa. \n",
    "#### Perguntas de negócio feitas ao analista de dados:\n",
    "\n",
    "De preferência, a administração gostaria de respostas para as seguintes perguntas:\n",
    "\n",
    "Qual é o sabor mais popular de sorvete?\n",
    "\n",
    "Como a temperatura afeta as vendas?\n",
    "\n",
    "Como os fins de semana e feriados afetam as vendas?\n",
    "\n",
    "Qual é a diferença entre rentabilidade para clientes novos e clientes que retornam?\n",
    "\n",
    "Fonte: curso de Análise de Dados do Google Career Certificates (adaptado).\n",
    "\n",
    "Links para download das planilhas com os exercícios praticados durante a atividade:\n",
    "\n",
    "https://docs.google.com/spreadsheets/d/e/2PACX-1vTByAX58nwA4Fs_BAqJo7Ze1M-ppKAdf7CkD_PgUCOGMfmTG_hSAQDn_Ce4S62tgviRhy4WD3yMw4Sq/pub?output=xlsx\n",
    "\n",
    "https://docs.google.com/spreadsheets/d/e/2PACX-1vTW6JPiTOPEURxmXTdYbHhSz1XsiDaci9RYk2guQQyjDtXdioU4p3zBItswtaemSvAOWe837o5tY14n/pub?output=xlsx\n",
    "\n",
    "\n",
    "https://docs.google.com/spreadsheets/d/e/2PACX-1vTUWc0ZvLfLDvBm05YucH5INgJ0ZxxOPU4wbMgSjBUExD3NIR74APypEGEQZPSULw2veCKApRuXWWe5/pub?output=xlsx\n",
    "\n",
    "\n",
    "\n",
    "\n",
    "#### Referências consultadas: \n",
    "\n",
    "https://www.youtube.com/watch?v=ko6LiZUVU0A&list=WL&index=16&t=19s\n",
    "\n",
    "Neste vídeo é mostrado um exemplo do uso do método groupby e, adicionalmente, como este método trata por default os valores nulos ou vazios, podendo causar erro nos resultados. Por fim, é demonstrado como contornar a questão pelo acréscimo do parâmetro dropna = False.\n",
    "\n",
    "https://www.statology.org/seaborn-pie-chart/\n",
    "\n",
    "https://seaborn.pydata.org/generated/seaborn.barplot.html\n",
    "\n",
    "https://datavizpyr.com/how-to-annotate-bars-in-barplot-with-matplotlib-in-python/\n",
    "\n",
    "#### Dashboard deste mini projeto:\n",
    "Será criado no ambiente Google Data Studio um *dashboard* com alguns gráficos e tabelas elementares para este mini projeto;\n",
    "\n",
    "Este painel está sujeito a aprimoramentos à medida em que novas habilidades forem sendo absorvidas, podendo ser consultado através do link a seguir: (ELABORAR E INCLUIR POSTERIORMENTE)"
   ]
  },
  {
   "cell_type": "code",
   "execution_count": 176,
   "id": "95957d00",
   "metadata": {},
   "outputs": [],
   "source": [
    "import pandas as pd\n",
    "import numpy as np\n",
    "import matplotlib.pyplot as plt\n",
    "import seaborn as sns"
   ]
  },
  {
   "cell_type": "code",
   "execution_count": 177,
   "id": "4e80b5f8",
   "metadata": {},
   "outputs": [],
   "source": [
    "url_flavors = 'https://docs.google.com/spreadsheets/d/e/2PACX-1vTByAX58nwA4Fs_BAqJo7Ze1M-ppKAdf7CkD_PgUCOGMfmTG_hSAQDn_Ce4S62tgviRhy4WD3yMw4Sq/pub?output=xlsx'\n",
    "url_temperatures = 'https://docs.google.com/spreadsheets/d/e/2PACX-1vTW6JPiTOPEURxmXTdYbHhSz1XsiDaci9RYk2guQQyjDtXdioU4p3zBItswtaemSvAOWe837o5tY14n/pub?output=xlsx'\n",
    "url_sales = 'https://docs.google.com/spreadsheets/d/e/2PACX-1vTUWc0ZvLfLDvBm05YucH5INgJ0ZxxOPU4wbMgSjBUExD3NIR74APypEGEQZPSULw2veCKApRuXWWe5/pub?output=xlsx'"
   ]
  },
  {
   "cell_type": "markdown",
   "id": "e657c35d",
   "metadata": {},
   "source": [
    "### Qual é o sabor mais popular de sorvete?\n",
    "\n",
    "O critério a ser utilizado será a quantidade total de sorvetes de cada sabor. Os resultados serão exibidos em tela e em gráficos num dashboard. Seria interessante ainda se fazer uma complementação desta análise inicial com a receita gerada por cada sabor de sorvete, porém os dados disponíveis não são suficientes para tal."
   ]
  },
  {
   "cell_type": "code",
   "execution_count": 178,
   "id": "f47862d3",
   "metadata": {},
   "outputs": [],
   "source": [
    "df_flavors = pd.read_excel(url_flavors)"
   ]
  },
  {
   "cell_type": "code",
   "execution_count": 179,
   "id": "1c3b25cb",
   "metadata": {
    "scrolled": false
   },
   "outputs": [
    {
     "data": {
      "text/html": [
       "<div>\n",
       "<style scoped>\n",
       "    .dataframe tbody tr th:only-of-type {\n",
       "        vertical-align: middle;\n",
       "    }\n",
       "\n",
       "    .dataframe tbody tr th {\n",
       "        vertical-align: top;\n",
       "    }\n",
       "\n",
       "    .dataframe thead th {\n",
       "        text-align: right;\n",
       "    }\n",
       "</style>\n",
       "<table border=\"1\" class=\"dataframe\">\n",
       "  <thead>\n",
       "    <tr style=\"text-align: right;\">\n",
       "      <th></th>\n",
       "      <th>week</th>\n",
       "      <th>units sold</th>\n",
       "      <th>flavor</th>\n",
       "    </tr>\n",
       "  </thead>\n",
       "  <tbody>\n",
       "    <tr>\n",
       "      <th>0</th>\n",
       "      <td>1.0</td>\n",
       "      <td>6.0</td>\n",
       "      <td>chocolate</td>\n",
       "    </tr>\n",
       "    <tr>\n",
       "      <th>1</th>\n",
       "      <td>1.0</td>\n",
       "      <td>15.0</td>\n",
       "      <td>lemon</td>\n",
       "    </tr>\n",
       "    <tr>\n",
       "      <th>2</th>\n",
       "      <td>1.0</td>\n",
       "      <td>12.0</td>\n",
       "      <td>strawberry</td>\n",
       "    </tr>\n",
       "    <tr>\n",
       "      <th>3</th>\n",
       "      <td>1.0</td>\n",
       "      <td>6.0</td>\n",
       "      <td>vanilla</td>\n",
       "    </tr>\n",
       "    <tr>\n",
       "      <th>4</th>\n",
       "      <td>2.0</td>\n",
       "      <td>16.0</td>\n",
       "      <td>chocolate</td>\n",
       "    </tr>\n",
       "  </tbody>\n",
       "</table>\n",
       "</div>"
      ],
      "text/plain": [
       "   week  units sold      flavor\n",
       "0   1.0         6.0   chocolate\n",
       "1   1.0        15.0       lemon\n",
       "2   1.0        12.0  strawberry\n",
       "3   1.0         6.0     vanilla\n",
       "4   2.0        16.0   chocolate"
      ]
     },
     "metadata": {},
     "output_type": "display_data"
    }
   ],
   "source": [
    "try:\n",
    "    display(df_flavors.head())\n",
    "except:\n",
    "    print(df_flavors.head())"
   ]
  },
  {
   "cell_type": "code",
   "execution_count": 180,
   "id": "b9155e3c",
   "metadata": {
    "scrolled": true
   },
   "outputs": [
    {
     "name": "stdout",
     "output_type": "stream",
     "text": [
      "week          0\n",
      "units sold    0\n",
      "flavor        0\n",
      "dtype: int64\n"
     ]
    }
   ],
   "source": [
    "# Verificação de valores vazios ou não preenchidos nas respectivas colunas:\n",
    "print(df_flavors.isnull().sum())"
   ]
  },
  {
   "cell_type": "code",
   "execution_count": 181,
   "id": "bff5efde",
   "metadata": {},
   "outputs": [
    {
     "name": "stdout",
     "output_type": "stream",
     "text": [
      "<class 'pandas.core.frame.DataFrame'>\n",
      "RangeIndex: 208 entries, 0 to 207\n",
      "Data columns (total 3 columns):\n",
      " #   Column      Non-Null Count  Dtype  \n",
      "---  ------      --------------  -----  \n",
      " 0   week        208 non-null    float64\n",
      " 1   units sold  208 non-null    float64\n",
      " 2   flavor      208 non-null    object \n",
      "dtypes: float64(2), object(1)\n",
      "memory usage: 5.0+ KB\n"
     ]
    }
   ],
   "source": [
    "# Verificação dos tipos das variáveis:\n",
    "df_flavors.info()"
   ]
  },
  {
   "cell_type": "code",
   "execution_count": 182,
   "id": "509e16ef",
   "metadata": {},
   "outputs": [],
   "source": [
    "# Tratamento dos dados, consistindo em transformar em tipo inteiro os valores das colunas \"week\" e \"units sold\":\n",
    "df_flavors['week'] = df_flavors['week'].astype(np.int64)\n",
    "df_flavors['units sold'] = df_flavors['units sold'].astype(np.int64)"
   ]
  },
  {
   "cell_type": "code",
   "execution_count": 183,
   "id": "707e5838",
   "metadata": {
    "scrolled": false
   },
   "outputs": [
    {
     "data": {
      "text/plain": [
       "chocolate     52\n",
       "lemon         52\n",
       "strawberry    52\n",
       "vanilla       52\n",
       "Name: flavor, dtype: int64"
      ]
     },
     "execution_count": 183,
     "metadata": {},
     "output_type": "execute_result"
    }
   ],
   "source": [
    "# Verificação das ocorrências de cada sabor:\n",
    "df_flavors['flavor'].value_counts()"
   ]
  },
  {
   "cell_type": "code",
   "execution_count": 184,
   "id": "b76373cd",
   "metadata": {},
   "outputs": [],
   "source": [
    "# sabores = ['chocolate', 'lemon', 'strawberry', 'vanilla']\n",
    "\n",
    "# vendas_sabor = []\n",
    "# for sabor in sabores:\n",
    "#     quantidade_vendida = df_flavors.loc[df_flavors['flavor'] == sabor, 'units sold'].sum()\n",
    "#     vendas_sabor.append([quantidade_vendida, sabor])\n",
    "\n",
    "# # Gerar um relatório impresso em tela em ordem decrescente das vendas ... OK !\n",
    "# vendas_sabor.sort()\n",
    "# print('Quantidade vendida por sabor: ')\n",
    "# for i in range(len(vendas_sabor)-1, -1, -1):\n",
    "#     print(f'Sabor \"{vendas_sabor[i][1]}\", {vendas_sabor[i][0]} unidades vendidas.')"
   ]
  },
  {
   "cell_type": "code",
   "execution_count": 185,
   "id": "18a4a2e1",
   "metadata": {},
   "outputs": [],
   "source": [
    "# Uso do método groupby:\n",
    "vendas_sabor = df_flavors.groupby(by = ['flavor'])[['units sold']].sum().reset_index()"
   ]
  },
  {
   "cell_type": "code",
   "execution_count": 200,
   "id": "f3e1de70",
   "metadata": {
    "scrolled": true
   },
   "outputs": [
    {
     "data": {
      "text/html": [
       "<div>\n",
       "<style scoped>\n",
       "    .dataframe tbody tr th:only-of-type {\n",
       "        vertical-align: middle;\n",
       "    }\n",
       "\n",
       "    .dataframe tbody tr th {\n",
       "        vertical-align: top;\n",
       "    }\n",
       "\n",
       "    .dataframe thead th {\n",
       "        text-align: right;\n",
       "    }\n",
       "</style>\n",
       "<table border=\"1\" class=\"dataframe\">\n",
       "  <thead>\n",
       "    <tr style=\"text-align: right;\">\n",
       "      <th></th>\n",
       "      <th>flavor</th>\n",
       "      <th>units sold</th>\n",
       "    </tr>\n",
       "  </thead>\n",
       "  <tbody>\n",
       "    <tr>\n",
       "      <th>0</th>\n",
       "      <td>chocolate</td>\n",
       "      <td>460</td>\n",
       "    </tr>\n",
       "    <tr>\n",
       "      <th>1</th>\n",
       "      <td>lemon</td>\n",
       "      <td>713</td>\n",
       "    </tr>\n",
       "    <tr>\n",
       "      <th>2</th>\n",
       "      <td>strawberry</td>\n",
       "      <td>399</td>\n",
       "    </tr>\n",
       "    <tr>\n",
       "      <th>3</th>\n",
       "      <td>vanilla</td>\n",
       "      <td>527</td>\n",
       "    </tr>\n",
       "  </tbody>\n",
       "</table>\n",
       "</div>"
      ],
      "text/plain": [
       "       flavor  units sold\n",
       "0   chocolate         460\n",
       "1       lemon         713\n",
       "2  strawberry         399\n",
       "3     vanilla         527"
      ]
     },
     "metadata": {},
     "output_type": "display_data"
    }
   ],
   "source": [
    "display(vendas_sabor.head())"
   ]
  },
  {
   "cell_type": "markdown",
   "id": "4ea486e3",
   "metadata": {},
   "source": [
    "#### Obs: Seaborn NÃO possui função nativa para criar gráficos de pizza, porém pode ser usado o Matplotlib em conjunto com Seaborn para a visualização a seguir:"
   ]
  },
  {
   "cell_type": "code",
   "execution_count": 187,
   "id": "c56c7e6a",
   "metadata": {
    "scrolled": true
   },
   "outputs": [
    {
     "data": {
      "image/png": "[encoded data removed]",
      "text/plain": [
       "<Figure size 864x432 with 1 Axes>"
      ]
     },
     "metadata": {},
     "output_type": "display_data"
    }
   ],
   "source": [
    "# Parâmetros informados manualmente ... aprimorar para formato dinâmico !!\n",
    "\n",
    "plt.figure( figsize=(12, 6))\n",
    "sabores = ['lemon', 'vanilla', 'chocolate', 'strawberry']\n",
    "vendas = [713, 527, 460, 399]\n",
    "\n",
    "#define Seaborn color palette to use\n",
    "colors = sns.color_palette('bright')[0:4]  # Temos somente 4 cores ...\n",
    "\n",
    "#create pie chart\n",
    "plt.pie(vendas, labels = sabores, colors = colors, autopct='%.0f%%')\n",
    "plt.show()"
   ]
  },
  {
   "cell_type": "code",
   "execution_count": 188,
   "id": "35b39985",
   "metadata": {
    "scrolled": true
   },
   "outputs": [
    {
     "data": {
      "image/png": "[encoded data removed]",
      "text/plain": [
       "<Figure size 864x432 with 1 Axes>"
      ]
     },
     "metadata": {
      "needs_background": "light"
     },
     "output_type": "display_data"
    }
   ],
   "source": [
    "plt.figure(figsize=(12, 6))\n",
    "splot = sns.barplot(data=vendas_sabor, x = 'flavor', y = 'units sold', \n",
    "        order = ['lemon', 'vanilla', 'chocolate', 'strawberry'], \n",
    "        palette = 'bright');\n",
    "\n",
    "plt.xlabel('flavor', size=14)\n",
    "plt.ylabel('units sold', size=14)\n",
    "\n",
    "# Rotina para anotações dos valores sobre cada coluna:\n",
    "# https://datavizpyr.com/how-to-annotate-bars-in-barplot-with-matplotlib-in-python/\n",
    "for p in splot.patches:\n",
    "    splot.annotate(format(p.get_height(), '.0f'), \n",
    "    (p.get_x() + p.get_width() / 2., p.get_height()), \n",
    "    ha = 'center', va = 'center', \n",
    "    xytext = (0, 9), \n",
    "    textcoords = 'offset points')"
   ]
  },
  {
   "cell_type": "markdown",
   "id": "551ad7e6",
   "metadata": {},
   "source": [
    "### Como a temperatura afeta as vendas?\n",
    "\n",
    "O critério a ser utilizado será verificar a correlação entre a temperatura diária registrada (365 registros) e a respectiva receita. Infere-se pelos contexto e valores numéricos que as temperaturas listadas no conjunto de dados estão na escala Fahrenheit."
   ]
  },
  {
   "cell_type": "code",
   "execution_count": 189,
   "id": "40dc9023",
   "metadata": {},
   "outputs": [],
   "source": [
    "df_temperatures = pd.read_excel(url_temperatures)"
   ]
  },
  {
   "cell_type": "code",
   "execution_count": 190,
   "id": "988f77c6",
   "metadata": {},
   "outputs": [
    {
     "data": {
      "text/html": [
       "<div>\n",
       "<style scoped>\n",
       "    .dataframe tbody tr th:only-of-type {\n",
       "        vertical-align: middle;\n",
       "    }\n",
       "\n",
       "    .dataframe tbody tr th {\n",
       "        vertical-align: top;\n",
       "    }\n",
       "\n",
       "    .dataframe thead th {\n",
       "        text-align: right;\n",
       "    }\n",
       "</style>\n",
       "<table border=\"1\" class=\"dataframe\">\n",
       "  <thead>\n",
       "    <tr style=\"text-align: right;\">\n",
       "      <th></th>\n",
       "      <th>temperature</th>\n",
       "      <th>sales</th>\n",
       "    </tr>\n",
       "  </thead>\n",
       "  <tbody>\n",
       "    <tr>\n",
       "      <th>0</th>\n",
       "      <td>60.217676</td>\n",
       "      <td>39.693565</td>\n",
       "    </tr>\n",
       "    <tr>\n",
       "      <th>1</th>\n",
       "      <td>80.372455</td>\n",
       "      <td>61.592665</td>\n",
       "    </tr>\n",
       "    <tr>\n",
       "      <th>2</th>\n",
       "      <td>57.674373</td>\n",
       "      <td>33.443372</td>\n",
       "    </tr>\n",
       "    <tr>\n",
       "      <th>3</th>\n",
       "      <td>95.800183</td>\n",
       "      <td>80.020249</td>\n",
       "    </tr>\n",
       "    <tr>\n",
       "      <th>4</th>\n",
       "      <td>95.170632</td>\n",
       "      <td>80.754129</td>\n",
       "    </tr>\n",
       "  </tbody>\n",
       "</table>\n",
       "</div>"
      ],
      "text/plain": [
       "   temperature      sales\n",
       "0    60.217676  39.693565\n",
       "1    80.372455  61.592665\n",
       "2    57.674373  33.443372\n",
       "3    95.800183  80.020249\n",
       "4    95.170632  80.754129"
      ]
     },
     "metadata": {},
     "output_type": "display_data"
    }
   ],
   "source": [
    "try:\n",
    "    display(df_temperatures.head())\n",
    "except:\n",
    "    print(df_temperatures.head())"
   ]
  },
  {
   "cell_type": "code",
   "execution_count": 191,
   "id": "60057d40",
   "metadata": {
    "scrolled": true
   },
   "outputs": [
    {
     "name": "stdout",
     "output_type": "stream",
     "text": [
      "<class 'pandas.core.frame.DataFrame'>\n",
      "RangeIndex: 365 entries, 0 to 364\n",
      "Data columns (total 2 columns):\n",
      " #   Column       Non-Null Count  Dtype  \n",
      "---  ------       --------------  -----  \n",
      " 0   temperature  365 non-null    float64\n",
      " 1   sales        365 non-null    float64\n",
      "dtypes: float64(2)\n",
      "memory usage: 5.8 KB\n"
     ]
    }
   ],
   "source": [
    "# Verificação dos tipos das variáveis:\n",
    "df_temperatures.info()"
   ]
  },
  {
   "cell_type": "code",
   "execution_count": 192,
   "id": "ab0754fd",
   "metadata": {
    "scrolled": true
   },
   "outputs": [
    {
     "name": "stdout",
     "output_type": "stream",
     "text": [
      "temperature    0\n",
      "sales          0\n",
      "dtype: int64\n"
     ]
    }
   ],
   "source": [
    "# Verificação de valores vazios ou não preenchidos nas respectivas colunas:\n",
    "print(df_temperatures.isna().sum())"
   ]
  },
  {
   "cell_type": "code",
   "execution_count": 198,
   "id": "ba88409c",
   "metadata": {
    "scrolled": true
   },
   "outputs": [
    {
     "name": "stdout",
     "output_type": "stream",
     "text": [
      "             temperature     sales\n",
      "temperature     1.000000  0.988457\n",
      "sales           0.988457  1.000000\n"
     ]
    }
   ],
   "source": [
    "# Verificação de correlação entre as variáveis. Método corr() do Pandas. \n",
    "# Observa-se estreita correlação entre temperatura e receita da venda de sorvetes:\n",
    "print(df_temperatures.corr())"
   ]
  },
  {
   "cell_type": "code",
   "execution_count": 202,
   "id": "ad785afb",
   "metadata": {},
   "outputs": [
    {
     "data": {
      "text/html": [
       "<div>\n",
       "<style scoped>\n",
       "    .dataframe tbody tr th:only-of-type {\n",
       "        vertical-align: middle;\n",
       "    }\n",
       "\n",
       "    .dataframe tbody tr th {\n",
       "        vertical-align: top;\n",
       "    }\n",
       "\n",
       "    .dataframe thead th {\n",
       "        text-align: right;\n",
       "    }\n",
       "</style>\n",
       "<table border=\"1\" class=\"dataframe\">\n",
       "  <thead>\n",
       "    <tr style=\"text-align: right;\">\n",
       "      <th></th>\n",
       "      <th>temperature</th>\n",
       "      <th>sales</th>\n",
       "    </tr>\n",
       "  </thead>\n",
       "  <tbody>\n",
       "    <tr>\n",
       "      <th>count</th>\n",
       "      <td>365.000000</td>\n",
       "      <td>365.000000</td>\n",
       "    </tr>\n",
       "    <tr>\n",
       "      <th>mean</th>\n",
       "      <td>71.971126</td>\n",
       "      <td>52.103584</td>\n",
       "    </tr>\n",
       "    <tr>\n",
       "      <th>std</th>\n",
       "      <td>13.264492</td>\n",
       "      <td>15.988949</td>\n",
       "    </tr>\n",
       "    <tr>\n",
       "      <th>min</th>\n",
       "      <td>39.175742</td>\n",
       "      <td>11.881215</td>\n",
       "    </tr>\n",
       "    <tr>\n",
       "      <th>25%</th>\n",
       "      <td>63.419291</td>\n",
       "      <td>40.651609</td>\n",
       "    </tr>\n",
       "    <tr>\n",
       "      <th>50%</th>\n",
       "      <td>73.167012</td>\n",
       "      <td>53.620818</td>\n",
       "    </tr>\n",
       "    <tr>\n",
       "      <th>75%</th>\n",
       "      <td>81.575530</td>\n",
       "      <td>63.629837</td>\n",
       "    </tr>\n",
       "    <tr>\n",
       "      <th>max</th>\n",
       "      <td>100.663399</td>\n",
       "      <td>89.294772</td>\n",
       "    </tr>\n",
       "  </tbody>\n",
       "</table>\n",
       "</div>"
      ],
      "text/plain": [
       "       temperature       sales\n",
       "count   365.000000  365.000000\n",
       "mean     71.971126   52.103584\n",
       "std      13.264492   15.988949\n",
       "min      39.175742   11.881215\n",
       "25%      63.419291   40.651609\n",
       "50%      73.167012   53.620818\n",
       "75%      81.575530   63.629837\n",
       "max     100.663399   89.294772"
      ]
     },
     "execution_count": 202,
     "metadata": {},
     "output_type": "execute_result"
    }
   ],
   "source": [
    "# Estatísticas. Método describe:\n",
    "df_temperatures.describe()"
   ]
  }
 ],
 "metadata": {
  "kernelspec": {
   "display_name": "Python 3 (ipykernel)",
   "language": "python",
   "name": "python3"
  },
  "language_info": {
   "codemirror_mode": {
    "name": "ipython",
    "version": 3
   },
   "file_extension": ".py",
   "mimetype": "text/x-python",
   "name": "python",
   "nbconvert_exporter": "python",
   "pygments_lexer": "ipython3",
   "version": "3.9.7"
  }
 },
 "nbformat": 4,
 "nbformat_minor": 5
}
